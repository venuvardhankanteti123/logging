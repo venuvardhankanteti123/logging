{
 "cells": [
  {
   "cell_type": "markdown",
   "id": "b69b0550",
   "metadata": {},
   "source": [
    "###### Logging is an import module which is used to log events or record messages during the exectuion of the program"
   ]
  },
  {
   "cell_type": "code",
   "execution_count": 1,
   "id": "73b1c463",
   "metadata": {},
   "outputs": [],
   "source": [
    "#importing the required packages\n",
    "import logging"
   ]
  },
  {
   "cell_type": "code",
   "execution_count": 2,
   "id": "498f433d",
   "metadata": {},
   "outputs": [],
   "source": [
    "#configuring the basic logging information\n",
    "\n",
    "#logging.basicConfig(level=logging.DEBUG,)"
   ]
  },
  {
   "cell_type": "code",
   "execution_count": 3,
   "id": "1863d708",
   "metadata": {},
   "outputs": [],
   "source": [
    "#log messages with various severity levels\n",
    "\n",
    "# logging.debug(\"This is a debug message\")\n",
    "# logging.info(\"This is a info message\")\n",
    "# logging.warning(\"This is a warning message\")\n",
    "# logging.error(\"This is a error message\")\n",
    "# logging.critical(\"This is a Critical mesage\")"
   ]
  },
  {
   "cell_type": "code",
   "execution_count": 5,
   "id": "f4c490ab",
   "metadata": {},
   "outputs": [],
   "source": [
    "logging.basicConfig(filename='app.log',\n",
    "                    filemode='w',\n",
    "                    level=logging.DEBUG,\n",
    "                    format='%(asctime)s - %(name)s - %(levelname)s - %(message)s',\n",
    "                    datefmt='%Y-%m-%d %H:%M:%S')"
   ]
  },
  {
   "cell_type": "code",
   "execution_count": 6,
   "id": "a458578e",
   "metadata": {},
   "outputs": [
    {
     "name": "stderr",
     "output_type": "stream",
     "text": [
      "2025-06-28 11:53:14 - root - DEBUG - This is a debug message\n",
      "2025-06-28 11:53:14 - root - INFO - This is a info message\n",
      "2025-06-28 11:53:14 - root - WARNING - This is a warning message\n",
      "2025-06-28 11:53:14 - root - ERROR - This is a error message\n",
      "2025-06-28 11:53:14 - root - CRITICAL - This is a Critical mesage\n"
     ]
    }
   ],
   "source": [
    "#log messages with various severity levels\n",
    "\n",
    "logging.debug(\"This is a debug message\")\n",
    "logging.info(\"This is a info message\")\n",
    "logging.warning(\"This is a warning message\")\n",
    "logging.error(\"This is a error message\")\n",
    "logging.critical(\"This is a Critical mesage\")"
   ]
  },
  {
   "cell_type": "code",
   "execution_count": null,
   "id": "370f4a57",
   "metadata": {},
   "outputs": [
    {
     "name": "stdout",
     "output_type": "stream",
     "text": [
      "[-2, -3, -4, -5]\n"
     ]
    }
   ],
   "source": []
  },
  {
   "cell_type": "code",
   "execution_count": null,
   "id": "6be1d24c",
   "metadata": {},
   "outputs": [],
   "source": []
  },
  {
   "cell_type": "code",
   "execution_count": null,
   "id": "dd08460a",
   "metadata": {},
   "outputs": [],
   "source": []
  },
  {
   "cell_type": "code",
   "execution_count": null,
   "id": "cdb46b20",
   "metadata": {},
   "outputs": [],
   "source": []
  }
 ],
 "metadata": {
  "kernelspec": {
   "display_name": "myenv",
   "language": "python",
   "name": "python3"
  },
  "language_info": {
   "codemirror_mode": {
    "name": "ipython",
    "version": 3
   },
   "file_extension": ".py",
   "mimetype": "text/x-python",
   "name": "python",
   "nbconvert_exporter": "python",
   "pygments_lexer": "ipython3",
   "version": "3.12.1"
  }
 },
 "nbformat": 4,
 "nbformat_minor": 5
}
